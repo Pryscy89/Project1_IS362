{
  "metadata": {
    "kernelspec": {
      "name": "python",
      "display_name": "Python (Pyodide)",
      "language": "python"
    },
    "language_info": {
      "codemirror_mode": {
        "name": "python",
        "version": 3
      },
      "file_extension": ".py",
      "mimetype": "text/x-python",
      "name": "python",
      "nbconvert_exporter": "python",
      "pygments_lexer": "ipython3",
      "version": "3.8"
    }
  },
  "nbformat_minor": 4,
  "nbformat": 4,
  "cells": [
    {
      "cell_type": "code",
      "source": "import pandas as pd",
      "metadata": {
        "trusted": true
      },
      "outputs": [],
      "execution_count": 29
    },
    {
      "cell_type": "code",
      "source": "#Read information from the CSV file into pandas\nairline_data=pd.read_csv(\"Project1.csv\")",
      "metadata": {
        "trusted": true
      },
      "outputs": [],
      "execution_count": 49
    },
    {
      "cell_type": "code",
      "source": "#Examination of the first five rows to ensure the data's accuracy.\nairline_data.head()",
      "metadata": {
        "trusted": true
      },
      "outputs": [
        {
          "execution_count": 59,
          "output_type": "execute_result",
          "data": {
            "text/plain": "   Unnamed: 0           City  Alaska_On_Time  Alaska_Delay  AM WEST_On_Time  \\\n0         NaN    Los Angeles             497            62              694   \n1         NaN        Phoenix             221            12             4840   \n2         NaN      San Diego             212            20              383   \n3         NaN  San Francisco             503           102              320   \n4         NaN        Seattle            1841           305              201   \n\n   AM WEST_Delay  Unnamed: 6  Alaska_F  Alaska_Delayed  T_AMWest  \\\n0            117         NaN       559       11.091234       811   \n1            415         NaN       233        5.150215      5255   \n2             65         NaN       232        8.620690       448   \n3            129         NaN       605       16.859504       449   \n4             61         NaN      2146       14.212488       262   \n\n   AMWest_Delayed Most_Delayed_Airline  \n0       14.426634               AMWest  \n1        7.897241               AMWest  \n2       14.508929               AMWest  \n3       28.730512               AMWest  \n4       23.282443               AMWest  ",
            "text/html": "<div>\n<style scoped>\n    .dataframe tbody tr th:only-of-type {\n        vertical-align: middle;\n    }\n\n    .dataframe tbody tr th {\n        vertical-align: top;\n    }\n\n    .dataframe thead th {\n        text-align: right;\n    }\n</style>\n<table border=\"1\" class=\"dataframe\">\n  <thead>\n    <tr style=\"text-align: right;\">\n      <th></th>\n      <th>Unnamed: 0</th>\n      <th>City</th>\n      <th>Alaska_On_Time</th>\n      <th>Alaska_Delay</th>\n      <th>AM WEST_On_Time</th>\n      <th>AM WEST_Delay</th>\n      <th>Unnamed: 6</th>\n      <th>Alaska_F</th>\n      <th>Alaska_Delayed</th>\n      <th>T_AMWest</th>\n      <th>AMWest_Delayed</th>\n      <th>Most_Delayed_Airline</th>\n    </tr>\n  </thead>\n  <tbody>\n    <tr>\n      <th>0</th>\n      <td>NaN</td>\n      <td>Los Angeles</td>\n      <td>497</td>\n      <td>62</td>\n      <td>694</td>\n      <td>117</td>\n      <td>NaN</td>\n      <td>559</td>\n      <td>11.091234</td>\n      <td>811</td>\n      <td>14.426634</td>\n      <td>AMWest</td>\n    </tr>\n    <tr>\n      <th>1</th>\n      <td>NaN</td>\n      <td>Phoenix</td>\n      <td>221</td>\n      <td>12</td>\n      <td>4840</td>\n      <td>415</td>\n      <td>NaN</td>\n      <td>233</td>\n      <td>5.150215</td>\n      <td>5255</td>\n      <td>7.897241</td>\n      <td>AMWest</td>\n    </tr>\n    <tr>\n      <th>2</th>\n      <td>NaN</td>\n      <td>San Diego</td>\n      <td>212</td>\n      <td>20</td>\n      <td>383</td>\n      <td>65</td>\n      <td>NaN</td>\n      <td>232</td>\n      <td>8.620690</td>\n      <td>448</td>\n      <td>14.508929</td>\n      <td>AMWest</td>\n    </tr>\n    <tr>\n      <th>3</th>\n      <td>NaN</td>\n      <td>San Francisco</td>\n      <td>503</td>\n      <td>102</td>\n      <td>320</td>\n      <td>129</td>\n      <td>NaN</td>\n      <td>605</td>\n      <td>16.859504</td>\n      <td>449</td>\n      <td>28.730512</td>\n      <td>AMWest</td>\n    </tr>\n    <tr>\n      <th>4</th>\n      <td>NaN</td>\n      <td>Seattle</td>\n      <td>1841</td>\n      <td>305</td>\n      <td>201</td>\n      <td>61</td>\n      <td>NaN</td>\n      <td>2146</td>\n      <td>14.212488</td>\n      <td>262</td>\n      <td>23.282443</td>\n      <td>AMWest</td>\n    </tr>\n  </tbody>\n</table>\n</div>"
          },
          "metadata": {}
        }
      ],
      "execution_count": 59
    },
    {
      "cell_type": "code",
      "source": "#For each of the five destinations, I determined the percentage of Alaska Airlines flights that had delays.\n# The percentage of all flights that are delayed is calculated by dividing the number of delayed flights \n#by the total number of flights. \"Alaska_Delayed\" is a new column that contains the computation's results.\n\n\nairline_data['Alaska_F'] = airline_data['Alaska_On_Time'] + airline_data['Alaska_Delay']\n\nairline_data['Alaska_Delayed'] = (airline_data['Alaska_Delay'] / airline_data['Alaska_F']) * 100\n\nairline_data['Alaska_Delayed']",
      "metadata": {
        "trusted": true
      },
      "outputs": [
        {
          "execution_count": 64,
          "output_type": "execute_result",
          "data": {
            "text/plain": "0    11.091234\n1     5.150215\n2     8.620690\n3    16.859504\n4    14.212488\nName: Alaska_Delayed, dtype: float64"
          },
          "metadata": {}
        }
      ],
      "execution_count": 64
    },
    {
      "cell_type": "code",
      "source": "# The procedure used to determine the percentage of AM West flights that are delayed is the same.\n# Enter \"AM West_Delayed\" as the new column containing the computation's results.\n\n\nairline_data['T_AMWest'] = airline_data['AM WEST_Delay'] + airline_data['AM WEST_On_Time']\n\nairline_data['AMWest_Delayed'] = (airline_data['AM WEST_Delay'] / airline_data['T_AMWest']) * 100\n\nairline_data['AMWest_Delayed']",
      "metadata": {
        "trusted": true
      },
      "outputs": [
        {
          "execution_count": 60,
          "output_type": "execute_result",
          "data": {
            "text/plain": "0    14.426634\n1     7.897241\n2    14.508929\n3    28.730512\n4    23.282443\nName: AMWest_Delayed, dtype: float64"
          },
          "metadata": {}
        }
      ],
      "execution_count": 60
    },
    {
      "cell_type": "code",
      "source": "# It is evident that AM West carriers have more delayed flights at every destination when \n#I visually compare the delays of the two carriers at each destination.\n\nairline_data[['Alaska_Delayed', 'AMWest_Delayed']]",
      "metadata": {
        "trusted": true
      },
      "outputs": [
        {
          "execution_count": 61,
          "output_type": "execute_result",
          "data": {
            "text/plain": "   Alaska_Delayed  AMWest_Delayed\n0       11.091234       14.426634\n1        5.150215        7.897241\n2        8.620690       14.508929\n3       16.859504       28.730512\n4       14.212488       23.282443",
            "text/html": "<div>\n<style scoped>\n    .dataframe tbody tr th:only-of-type {\n        vertical-align: middle;\n    }\n\n    .dataframe tbody tr th {\n        vertical-align: top;\n    }\n\n    .dataframe thead th {\n        text-align: right;\n    }\n</style>\n<table border=\"1\" class=\"dataframe\">\n  <thead>\n    <tr style=\"text-align: right;\">\n      <th></th>\n      <th>Alaska_Delayed</th>\n      <th>AMWest_Delayed</th>\n    </tr>\n  </thead>\n  <tbody>\n    <tr>\n      <th>0</th>\n      <td>11.091234</td>\n      <td>14.426634</td>\n    </tr>\n    <tr>\n      <th>1</th>\n      <td>5.150215</td>\n      <td>7.897241</td>\n    </tr>\n    <tr>\n      <th>2</th>\n      <td>8.620690</td>\n      <td>14.508929</td>\n    </tr>\n    <tr>\n      <th>3</th>\n      <td>16.859504</td>\n      <td>28.730512</td>\n    </tr>\n    <tr>\n      <th>4</th>\n      <td>14.212488</td>\n      <td>23.282443</td>\n    </tr>\n  </tbody>\n</table>\n</div>"
          },
          "metadata": {}
        }
      ],
      "execution_count": 61
    },
    {
      "cell_type": "code",
      "source": "for index, row in airline_data.iterrows():\n    if row[\"Alaska_Delayed\"] > row[\"AMWest_Delayed\"]:\n        airline_data.loc[index, 'Most_Delayed_Airline'] = 'Alaska'\n    else:\n        airline_data.loc[index, 'Most_Delayed_Airline'] = 'AMWest'\n\nairline_data['Most_Delayed_Airline']",
      "metadata": {
        "trusted": true
      },
      "outputs": [
        {
          "execution_count": 62,
          "output_type": "execute_result",
          "data": {
            "text/plain": "0    AMWest\n1    AMWest\n2    AMWest\n3    AMWest\n4    AMWest\nName: Most_Delayed_Airline, dtype: object"
          },
          "metadata": {}
        }
      ],
      "execution_count": 62
    },
    {
      "cell_type": "code",
      "source": "airline_data",
      "metadata": {
        "trusted": true
      },
      "outputs": [
        {
          "execution_count": 63,
          "output_type": "execute_result",
          "data": {
            "text/plain": "   Unnamed: 0           City  Alaska_On_Time  Alaska_Delay  AM WEST_On_Time  \\\n0         NaN    Los Angeles             497            62              694   \n1         NaN        Phoenix             221            12             4840   \n2         NaN      San Diego             212            20              383   \n3         NaN  San Francisco             503           102              320   \n4         NaN        Seattle            1841           305              201   \n\n   AM WEST_Delay  Unnamed: 6  Alaska_F  Alaska_Delayed  T_AMWest  \\\n0            117         NaN       559       11.091234       811   \n1            415         NaN       233        5.150215      5255   \n2             65         NaN       232        8.620690       448   \n3            129         NaN       605       16.859504       449   \n4             61         NaN      2146       14.212488       262   \n\n   AMWest_Delayed Most_Delayed_Airline  \n0       14.426634               AMWest  \n1        7.897241               AMWest  \n2       14.508929               AMWest  \n3       28.730512               AMWest  \n4       23.282443               AMWest  ",
            "text/html": "<div>\n<style scoped>\n    .dataframe tbody tr th:only-of-type {\n        vertical-align: middle;\n    }\n\n    .dataframe tbody tr th {\n        vertical-align: top;\n    }\n\n    .dataframe thead th {\n        text-align: right;\n    }\n</style>\n<table border=\"1\" class=\"dataframe\">\n  <thead>\n    <tr style=\"text-align: right;\">\n      <th></th>\n      <th>Unnamed: 0</th>\n      <th>City</th>\n      <th>Alaska_On_Time</th>\n      <th>Alaska_Delay</th>\n      <th>AM WEST_On_Time</th>\n      <th>AM WEST_Delay</th>\n      <th>Unnamed: 6</th>\n      <th>Alaska_F</th>\n      <th>Alaska_Delayed</th>\n      <th>T_AMWest</th>\n      <th>AMWest_Delayed</th>\n      <th>Most_Delayed_Airline</th>\n    </tr>\n  </thead>\n  <tbody>\n    <tr>\n      <th>0</th>\n      <td>NaN</td>\n      <td>Los Angeles</td>\n      <td>497</td>\n      <td>62</td>\n      <td>694</td>\n      <td>117</td>\n      <td>NaN</td>\n      <td>559</td>\n      <td>11.091234</td>\n      <td>811</td>\n      <td>14.426634</td>\n      <td>AMWest</td>\n    </tr>\n    <tr>\n      <th>1</th>\n      <td>NaN</td>\n      <td>Phoenix</td>\n      <td>221</td>\n      <td>12</td>\n      <td>4840</td>\n      <td>415</td>\n      <td>NaN</td>\n      <td>233</td>\n      <td>5.150215</td>\n      <td>5255</td>\n      <td>7.897241</td>\n      <td>AMWest</td>\n    </tr>\n    <tr>\n      <th>2</th>\n      <td>NaN</td>\n      <td>San Diego</td>\n      <td>212</td>\n      <td>20</td>\n      <td>383</td>\n      <td>65</td>\n      <td>NaN</td>\n      <td>232</td>\n      <td>8.620690</td>\n      <td>448</td>\n      <td>14.508929</td>\n      <td>AMWest</td>\n    </tr>\n    <tr>\n      <th>3</th>\n      <td>NaN</td>\n      <td>San Francisco</td>\n      <td>503</td>\n      <td>102</td>\n      <td>320</td>\n      <td>129</td>\n      <td>NaN</td>\n      <td>605</td>\n      <td>16.859504</td>\n      <td>449</td>\n      <td>28.730512</td>\n      <td>AMWest</td>\n    </tr>\n    <tr>\n      <th>4</th>\n      <td>NaN</td>\n      <td>Seattle</td>\n      <td>1841</td>\n      <td>305</td>\n      <td>201</td>\n      <td>61</td>\n      <td>NaN</td>\n      <td>2146</td>\n      <td>14.212488</td>\n      <td>262</td>\n      <td>23.282443</td>\n      <td>AMWest</td>\n    </tr>\n  </tbody>\n</table>\n</div>"
          },
          "metadata": {}
        }
      ],
      "execution_count": 63
    },
    {
      "cell_type": "code",
      "source": "",
      "metadata": {
        "trusted": true
      },
      "outputs": [],
      "execution_count": null
    }
  ]
}